{
  "nbformat": 4,
  "nbformat_minor": 0,
  "metadata": {
    "colab": {
      "provenance": []
    },
    "kernelspec": {
      "name": "python3",
      "display_name": "Python 3"
    },
    "language_info": {
      "name": "python"
    }
  },
  "cells": [
    {
      "cell_type": "markdown",
      "source": [
        "#kết nối driver\n"
      ],
      "metadata": {
        "id": "ZFL8xUY8pZd4"
      }
    },
    {
      "cell_type": "code",
      "execution_count": 18,
      "metadata": {
        "colab": {
          "base_uri": "https://localhost:8080/"
        },
        "id": "8KhXAlwTpYf8",
        "outputId": "7953c10c-bb83-4927-dfd9-c419d0967207"
      },
      "outputs": [
        {
          "output_type": "stream",
          "name": "stdout",
          "text": [
            "Drive already mounted at /content/drive; to attempt to forcibly remount, call drive.mount(\"/content/drive\", force_remount=True).\n"
          ]
        }
      ],
      "source": [
        "from google.colab import drive\n",
        "drive.mount('/content/drive')"
      ]
    },
    {
      "cell_type": "markdown",
      "source": [
        "#tải các thư viện cần thiết"
      ],
      "metadata": {
        "id": "Y1DyXeBJpfSy"
      }
    },
    {
      "cell_type": "code",
      "source": [
        "!pip install emoji"
      ],
      "metadata": {
        "colab": {
          "base_uri": "https://localhost:8080/"
        },
        "id": "OHyk8HC2ph5p",
        "outputId": "38a146fd-dd46-44d9-febb-9ba482c11a3b"
      },
      "execution_count": 19,
      "outputs": [
        {
          "output_type": "stream",
          "name": "stdout",
          "text": [
            "Requirement already satisfied: emoji in /usr/local/lib/python3.10/dist-packages (2.11.0)\n"
          ]
        }
      ]
    },
    {
      "cell_type": "code",
      "source": [
        "import nltk\n",
        "nltk.download('stopwords')\n"
      ],
      "metadata": {
        "colab": {
          "base_uri": "https://localhost:8080/"
        },
        "id": "Uk9Z7gEMp76x",
        "outputId": "89cc3f2c-8bc3-4b76-8c14-b0a293506458"
      },
      "execution_count": 20,
      "outputs": [
        {
          "output_type": "stream",
          "name": "stderr",
          "text": [
            "[nltk_data] Downloading package stopwords to /root/nltk_data...\n",
            "[nltk_data]   Package stopwords is already up-to-date!\n"
          ]
        },
        {
          "output_type": "execute_result",
          "data": {
            "text/plain": [
              "True"
            ]
          },
          "metadata": {},
          "execution_count": 20
        }
      ]
    },
    {
      "cell_type": "markdown",
      "source": [
        "#khai báo thư viện"
      ],
      "metadata": {
        "id": "oz1mCEe0pjN3"
      }
    },
    {
      "cell_type": "code",
      "source": [
        "import pandas as pd\n",
        "import numpy as np\n",
        "import re\n",
        "import nltk\n",
        "import emoji\n",
        "from nltk.corpus import stopwords\n",
        "from sklearn.feature_extraction.text import CountVectorizer\n",
        "from sklearn.model_selection import train_test_split\n",
        "from tensorflow.keras.models import Sequential\n",
        "from tensorflow.keras.layers import Dense, Embedding, LSTM, Dropout, Convolution1D, MaxPooling1D, Flatten\n",
        "from nltk.stem import PorterStemmer\n",
        "from tensorflow.keras.preprocessing.text import Tokenizer\n",
        "from tensorflow.keras.preprocessing.sequence import pad_sequences\n",
        "from tensorflow.keras.callbacks import History\n",
        "from tensorflow.keras.layers import Conv1D, MaxPooling1D, Flatten, LSTM, Dense, Embedding, concatenate\n",
        "from sklearn.metrics import accuracy_score, f1_score, recall_score\n",
        "from tensorflow.keras.utils import to_categorical\n",
        "import matplotlib.pyplot as plt\n",
        "from tensorflow.keras.models import Model\n",
        "from tensorflow.keras.models import load_model"
      ],
      "metadata": {
        "id": "GXNEZMg8plC2"
      },
      "execution_count": 65,
      "outputs": []
    },
    {
      "cell_type": "markdown",
      "source": [
        "#đọc dữ liệu từ file csv"
      ],
      "metadata": {
        "id": "TTw5eC8tplTH"
      }
    },
    {
      "cell_type": "code",
      "source": [
        "# Đọc dữ liệu từ file CSV\n",
        "data = pd.read_csv('/content/drive/MyDrive/Colab Notebooks/demo/Reviews.csv')"
      ],
      "metadata": {
        "id": "dS05waS8ploH"
      },
      "execution_count": 22,
      "outputs": []
    },
    {
      "cell_type": "code",
      "source": [
        "data.head()"
      ],
      "metadata": {
        "colab": {
          "base_uri": "https://localhost:8080/",
          "height": 206
        },
        "id": "JJEtyj6zp3af",
        "outputId": "8506ffdf-0f61-402a-a06e-88bbc0e10961"
      },
      "execution_count": 23,
      "outputs": [
        {
          "output_type": "execute_result",
          "data": {
            "text/plain": [
              "   Id   ProductId          UserId                      ProfileName  \\\n",
              "0   1  B001E4KFG0  A3SGXH7AUHU8GW                       delmartian   \n",
              "1   2  B00813GRG4  A1D87F6ZCVE5NK                           dll pa   \n",
              "2   3  B000LQOCH0   ABXLMWJIXXAIN  Natalia Corres \"Natalia Corres\"   \n",
              "3   4  B000UA0QIQ  A395BORC6FGVXV                             Karl   \n",
              "4   5  B006K2ZZ7K  A1UQRSCLF8GW1T    Michael D. Bigham \"M. Wassir\"   \n",
              "\n",
              "   HelpfulnessNumerator  HelpfulnessDenominator  Score        Time  \\\n",
              "0                     1                       1      5  1303862400   \n",
              "1                     0                       0      1  1346976000   \n",
              "2                     1                       1      4  1219017600   \n",
              "3                     3                       3      2  1307923200   \n",
              "4                     0                       0      5  1350777600   \n",
              "\n",
              "                 Summary                                               Text  \n",
              "0  Good Quality Dog Food  I have bought several of the Vitality canned d...  \n",
              "1      Not as Advertised  Product arrived labeled as Jumbo Salted Peanut...  \n",
              "2  \"Delight\" says it all  This is a confection that has been around a fe...  \n",
              "3         Cough Medicine  If you are looking for the secret ingredient i...  \n",
              "4            Great taffy  Great taffy at a great price.  There was a wid...  "
            ],
            "text/html": [
              "\n",
              "  <div id=\"df-731f6ae7-c524-4160-8d87-eeaca6bd6b09\" class=\"colab-df-container\">\n",
              "    <div>\n",
              "<style scoped>\n",
              "    .dataframe tbody tr th:only-of-type {\n",
              "        vertical-align: middle;\n",
              "    }\n",
              "\n",
              "    .dataframe tbody tr th {\n",
              "        vertical-align: top;\n",
              "    }\n",
              "\n",
              "    .dataframe thead th {\n",
              "        text-align: right;\n",
              "    }\n",
              "</style>\n",
              "<table border=\"1\" class=\"dataframe\">\n",
              "  <thead>\n",
              "    <tr style=\"text-align: right;\">\n",
              "      <th></th>\n",
              "      <th>Id</th>\n",
              "      <th>ProductId</th>\n",
              "      <th>UserId</th>\n",
              "      <th>ProfileName</th>\n",
              "      <th>HelpfulnessNumerator</th>\n",
              "      <th>HelpfulnessDenominator</th>\n",
              "      <th>Score</th>\n",
              "      <th>Time</th>\n",
              "      <th>Summary</th>\n",
              "      <th>Text</th>\n",
              "    </tr>\n",
              "  </thead>\n",
              "  <tbody>\n",
              "    <tr>\n",
              "      <th>0</th>\n",
              "      <td>1</td>\n",
              "      <td>B001E4KFG0</td>\n",
              "      <td>A3SGXH7AUHU8GW</td>\n",
              "      <td>delmartian</td>\n",
              "      <td>1</td>\n",
              "      <td>1</td>\n",
              "      <td>5</td>\n",
              "      <td>1303862400</td>\n",
              "      <td>Good Quality Dog Food</td>\n",
              "      <td>I have bought several of the Vitality canned d...</td>\n",
              "    </tr>\n",
              "    <tr>\n",
              "      <th>1</th>\n",
              "      <td>2</td>\n",
              "      <td>B00813GRG4</td>\n",
              "      <td>A1D87F6ZCVE5NK</td>\n",
              "      <td>dll pa</td>\n",
              "      <td>0</td>\n",
              "      <td>0</td>\n",
              "      <td>1</td>\n",
              "      <td>1346976000</td>\n",
              "      <td>Not as Advertised</td>\n",
              "      <td>Product arrived labeled as Jumbo Salted Peanut...</td>\n",
              "    </tr>\n",
              "    <tr>\n",
              "      <th>2</th>\n",
              "      <td>3</td>\n",
              "      <td>B000LQOCH0</td>\n",
              "      <td>ABXLMWJIXXAIN</td>\n",
              "      <td>Natalia Corres \"Natalia Corres\"</td>\n",
              "      <td>1</td>\n",
              "      <td>1</td>\n",
              "      <td>4</td>\n",
              "      <td>1219017600</td>\n",
              "      <td>\"Delight\" says it all</td>\n",
              "      <td>This is a confection that has been around a fe...</td>\n",
              "    </tr>\n",
              "    <tr>\n",
              "      <th>3</th>\n",
              "      <td>4</td>\n",
              "      <td>B000UA0QIQ</td>\n",
              "      <td>A395BORC6FGVXV</td>\n",
              "      <td>Karl</td>\n",
              "      <td>3</td>\n",
              "      <td>3</td>\n",
              "      <td>2</td>\n",
              "      <td>1307923200</td>\n",
              "      <td>Cough Medicine</td>\n",
              "      <td>If you are looking for the secret ingredient i...</td>\n",
              "    </tr>\n",
              "    <tr>\n",
              "      <th>4</th>\n",
              "      <td>5</td>\n",
              "      <td>B006K2ZZ7K</td>\n",
              "      <td>A1UQRSCLF8GW1T</td>\n",
              "      <td>Michael D. Bigham \"M. Wassir\"</td>\n",
              "      <td>0</td>\n",
              "      <td>0</td>\n",
              "      <td>5</td>\n",
              "      <td>1350777600</td>\n",
              "      <td>Great taffy</td>\n",
              "      <td>Great taffy at a great price.  There was a wid...</td>\n",
              "    </tr>\n",
              "  </tbody>\n",
              "</table>\n",
              "</div>\n",
              "    <div class=\"colab-df-buttons\">\n",
              "\n",
              "  <div class=\"colab-df-container\">\n",
              "    <button class=\"colab-df-convert\" onclick=\"convertToInteractive('df-731f6ae7-c524-4160-8d87-eeaca6bd6b09')\"\n",
              "            title=\"Convert this dataframe to an interactive table.\"\n",
              "            style=\"display:none;\">\n",
              "\n",
              "  <svg xmlns=\"http://www.w3.org/2000/svg\" height=\"24px\" viewBox=\"0 -960 960 960\">\n",
              "    <path d=\"M120-120v-720h720v720H120Zm60-500h600v-160H180v160Zm220 220h160v-160H400v160Zm0 220h160v-160H400v160ZM180-400h160v-160H180v160Zm440 0h160v-160H620v160ZM180-180h160v-160H180v160Zm440 0h160v-160H620v160Z\"/>\n",
              "  </svg>\n",
              "    </button>\n",
              "\n",
              "  <style>\n",
              "    .colab-df-container {\n",
              "      display:flex;\n",
              "      gap: 12px;\n",
              "    }\n",
              "\n",
              "    .colab-df-convert {\n",
              "      background-color: #E8F0FE;\n",
              "      border: none;\n",
              "      border-radius: 50%;\n",
              "      cursor: pointer;\n",
              "      display: none;\n",
              "      fill: #1967D2;\n",
              "      height: 32px;\n",
              "      padding: 0 0 0 0;\n",
              "      width: 32px;\n",
              "    }\n",
              "\n",
              "    .colab-df-convert:hover {\n",
              "      background-color: #E2EBFA;\n",
              "      box-shadow: 0px 1px 2px rgba(60, 64, 67, 0.3), 0px 1px 3px 1px rgba(60, 64, 67, 0.15);\n",
              "      fill: #174EA6;\n",
              "    }\n",
              "\n",
              "    .colab-df-buttons div {\n",
              "      margin-bottom: 4px;\n",
              "    }\n",
              "\n",
              "    [theme=dark] .colab-df-convert {\n",
              "      background-color: #3B4455;\n",
              "      fill: #D2E3FC;\n",
              "    }\n",
              "\n",
              "    [theme=dark] .colab-df-convert:hover {\n",
              "      background-color: #434B5C;\n",
              "      box-shadow: 0px 1px 3px 1px rgba(0, 0, 0, 0.15);\n",
              "      filter: drop-shadow(0px 1px 2px rgba(0, 0, 0, 0.3));\n",
              "      fill: #FFFFFF;\n",
              "    }\n",
              "  </style>\n",
              "\n",
              "    <script>\n",
              "      const buttonEl =\n",
              "        document.querySelector('#df-731f6ae7-c524-4160-8d87-eeaca6bd6b09 button.colab-df-convert');\n",
              "      buttonEl.style.display =\n",
              "        google.colab.kernel.accessAllowed ? 'block' : 'none';\n",
              "\n",
              "      async function convertToInteractive(key) {\n",
              "        const element = document.querySelector('#df-731f6ae7-c524-4160-8d87-eeaca6bd6b09');\n",
              "        const dataTable =\n",
              "          await google.colab.kernel.invokeFunction('convertToInteractive',\n",
              "                                                    [key], {});\n",
              "        if (!dataTable) return;\n",
              "\n",
              "        const docLinkHtml = 'Like what you see? Visit the ' +\n",
              "          '<a target=\"_blank\" href=https://colab.research.google.com/notebooks/data_table.ipynb>data table notebook</a>'\n",
              "          + ' to learn more about interactive tables.';\n",
              "        element.innerHTML = '';\n",
              "        dataTable['output_type'] = 'display_data';\n",
              "        await google.colab.output.renderOutput(dataTable, element);\n",
              "        const docLink = document.createElement('div');\n",
              "        docLink.innerHTML = docLinkHtml;\n",
              "        element.appendChild(docLink);\n",
              "      }\n",
              "    </script>\n",
              "  </div>\n",
              "\n",
              "\n",
              "<div id=\"df-489262f9-b392-434e-a255-37e8f0cf9ed2\">\n",
              "  <button class=\"colab-df-quickchart\" onclick=\"quickchart('df-489262f9-b392-434e-a255-37e8f0cf9ed2')\"\n",
              "            title=\"Suggest charts\"\n",
              "            style=\"display:none;\">\n",
              "\n",
              "<svg xmlns=\"http://www.w3.org/2000/svg\" height=\"24px\"viewBox=\"0 0 24 24\"\n",
              "     width=\"24px\">\n",
              "    <g>\n",
              "        <path d=\"M19 3H5c-1.1 0-2 .9-2 2v14c0 1.1.9 2 2 2h14c1.1 0 2-.9 2-2V5c0-1.1-.9-2-2-2zM9 17H7v-7h2v7zm4 0h-2V7h2v10zm4 0h-2v-4h2v4z\"/>\n",
              "    </g>\n",
              "</svg>\n",
              "  </button>\n",
              "\n",
              "<style>\n",
              "  .colab-df-quickchart {\n",
              "      --bg-color: #E8F0FE;\n",
              "      --fill-color: #1967D2;\n",
              "      --hover-bg-color: #E2EBFA;\n",
              "      --hover-fill-color: #174EA6;\n",
              "      --disabled-fill-color: #AAA;\n",
              "      --disabled-bg-color: #DDD;\n",
              "  }\n",
              "\n",
              "  [theme=dark] .colab-df-quickchart {\n",
              "      --bg-color: #3B4455;\n",
              "      --fill-color: #D2E3FC;\n",
              "      --hover-bg-color: #434B5C;\n",
              "      --hover-fill-color: #FFFFFF;\n",
              "      --disabled-bg-color: #3B4455;\n",
              "      --disabled-fill-color: #666;\n",
              "  }\n",
              "\n",
              "  .colab-df-quickchart {\n",
              "    background-color: var(--bg-color);\n",
              "    border: none;\n",
              "    border-radius: 50%;\n",
              "    cursor: pointer;\n",
              "    display: none;\n",
              "    fill: var(--fill-color);\n",
              "    height: 32px;\n",
              "    padding: 0;\n",
              "    width: 32px;\n",
              "  }\n",
              "\n",
              "  .colab-df-quickchart:hover {\n",
              "    background-color: var(--hover-bg-color);\n",
              "    box-shadow: 0 1px 2px rgba(60, 64, 67, 0.3), 0 1px 3px 1px rgba(60, 64, 67, 0.15);\n",
              "    fill: var(--button-hover-fill-color);\n",
              "  }\n",
              "\n",
              "  .colab-df-quickchart-complete:disabled,\n",
              "  .colab-df-quickchart-complete:disabled:hover {\n",
              "    background-color: var(--disabled-bg-color);\n",
              "    fill: var(--disabled-fill-color);\n",
              "    box-shadow: none;\n",
              "  }\n",
              "\n",
              "  .colab-df-spinner {\n",
              "    border: 2px solid var(--fill-color);\n",
              "    border-color: transparent;\n",
              "    border-bottom-color: var(--fill-color);\n",
              "    animation:\n",
              "      spin 1s steps(1) infinite;\n",
              "  }\n",
              "\n",
              "  @keyframes spin {\n",
              "    0% {\n",
              "      border-color: transparent;\n",
              "      border-bottom-color: var(--fill-color);\n",
              "      border-left-color: var(--fill-color);\n",
              "    }\n",
              "    20% {\n",
              "      border-color: transparent;\n",
              "      border-left-color: var(--fill-color);\n",
              "      border-top-color: var(--fill-color);\n",
              "    }\n",
              "    30% {\n",
              "      border-color: transparent;\n",
              "      border-left-color: var(--fill-color);\n",
              "      border-top-color: var(--fill-color);\n",
              "      border-right-color: var(--fill-color);\n",
              "    }\n",
              "    40% {\n",
              "      border-color: transparent;\n",
              "      border-right-color: var(--fill-color);\n",
              "      border-top-color: var(--fill-color);\n",
              "    }\n",
              "    60% {\n",
              "      border-color: transparent;\n",
              "      border-right-color: var(--fill-color);\n",
              "    }\n",
              "    80% {\n",
              "      border-color: transparent;\n",
              "      border-right-color: var(--fill-color);\n",
              "      border-bottom-color: var(--fill-color);\n",
              "    }\n",
              "    90% {\n",
              "      border-color: transparent;\n",
              "      border-bottom-color: var(--fill-color);\n",
              "    }\n",
              "  }\n",
              "</style>\n",
              "\n",
              "  <script>\n",
              "    async function quickchart(key) {\n",
              "      const quickchartButtonEl =\n",
              "        document.querySelector('#' + key + ' button');\n",
              "      quickchartButtonEl.disabled = true;  // To prevent multiple clicks.\n",
              "      quickchartButtonEl.classList.add('colab-df-spinner');\n",
              "      try {\n",
              "        const charts = await google.colab.kernel.invokeFunction(\n",
              "            'suggestCharts', [key], {});\n",
              "      } catch (error) {\n",
              "        console.error('Error during call to suggestCharts:', error);\n",
              "      }\n",
              "      quickchartButtonEl.classList.remove('colab-df-spinner');\n",
              "      quickchartButtonEl.classList.add('colab-df-quickchart-complete');\n",
              "    }\n",
              "    (() => {\n",
              "      let quickchartButtonEl =\n",
              "        document.querySelector('#df-489262f9-b392-434e-a255-37e8f0cf9ed2 button');\n",
              "      quickchartButtonEl.style.display =\n",
              "        google.colab.kernel.accessAllowed ? 'block' : 'none';\n",
              "    })();\n",
              "  </script>\n",
              "</div>\n",
              "    </div>\n",
              "  </div>\n"
            ],
            "application/vnd.google.colaboratory.intrinsic+json": {
              "type": "dataframe",
              "variable_name": "data"
            }
          },
          "metadata": {},
          "execution_count": 23
        }
      ]
    },
    {
      "cell_type": "markdown",
      "source": [
        "#tiền xử lý dữ liệu"
      ],
      "metadata": {
        "id": "u1X9GMDaprnQ"
      }
    },
    {
      "cell_type": "code",
      "source": [
        "# Loại bỏ các ký tự đặc biệt\n",
        "data['Text'] = data['Text'].apply(lambda x: re.sub(r'[^a-zA-Z\\s]', '', str(x)))"
      ],
      "metadata": {
        "id": "TxKUeEHTpuDf"
      },
      "execution_count": 24,
      "outputs": []
    },
    {
      "cell_type": "code",
      "source": [
        "# Chuyển về chữ thường\n",
        "data['Text'] = data['Text'].apply(lambda x: x.lower())"
      ],
      "metadata": {
        "id": "XHUn7_ZEp5su"
      },
      "execution_count": 25,
      "outputs": []
    },
    {
      "cell_type": "code",
      "source": [
        "# Loại bỏ stopwords\n",
        "stop_words = set(stopwords.words('english'))\n",
        "data['Text'] = data['Text'].apply(lambda x: ' '.join([word for word in x.split() if word not in stop_words]))"
      ],
      "metadata": {
        "id": "mc1YVIR-qAD_"
      },
      "execution_count": 26,
      "outputs": []
    },
    {
      "cell_type": "code",
      "source": [
        "# Stemming\n",
        "stemmer = PorterStemmer()\n",
        "data['Text'] = data['Text'].apply(lambda x: ' '.join([stemmer.stem(word) for word in x.split()]))"
      ],
      "metadata": {
        "id": "yLJeV5I8qCev"
      },
      "execution_count": 27,
      "outputs": []
    },
    {
      "cell_type": "code",
      "source": [
        "from sklearn.model_selection import train_test_split\n",
        "\n",
        "X_train, X_test, y_train, y_test = train_test_split(data['Text'], data['Score'], test_size=0.2, random_state=42)"
      ],
      "metadata": {
        "id": "I87_Qar5qE8K"
      },
      "execution_count": 28,
      "outputs": []
    },
    {
      "cell_type": "code",
      "source": [
        "max_features = 5000\n",
        "tokenizer = Tokenizer(num_words=max_features, split=' ')\n",
        "tokenizer.fit_on_texts(X_train)\n",
        "X_train = tokenizer.texts_to_sequences(X_train)\n",
        "X_test = tokenizer.texts_to_sequences(X_test)\n",
        "\n",
        "max_len = 100\n",
        "X_train = pad_sequences(X_train, maxlen=max_len)\n",
        "X_test = pad_sequences(X_test, maxlen=max_len)"
      ],
      "metadata": {
        "id": "_cXoSfqTqE_e"
      },
      "execution_count": 29,
      "outputs": []
    },
    {
      "cell_type": "code",
      "source": [
        "#Chuyển đổi nhãn thành one-hot encoding:\n",
        "y_train = to_categorical(y_train)\n",
        "y_test = to_categorical(y_test)"
      ],
      "metadata": {
        "id": "T31qz_vaqFFG"
      },
      "execution_count": 30,
      "outputs": []
    },
    {
      "cell_type": "markdown",
      "source": [
        "#Xây dựng và huấn luyện mô hình"
      ],
      "metadata": {
        "id": "nXneHWXHqSEO"
      }
    },
    {
      "cell_type": "code",
      "source": [
        "# Xây dựng mô hình CNN-LSTM\n",
        "def build_cnn_lstm_model(max_features, max_len):\n",
        "    model = Sequential()\n",
        "    model.add(Embedding(max_features, 128, input_length=max_len))\n",
        "    model.add(Conv1D(64, 3, padding='same', activation='relu'))\n",
        "    model.add(MaxPooling1D())\n",
        "    model.add(LSTM(64))\n",
        "    model.add(Dense(1, activation='linear'))\n",
        "    return model\n",
        "\n",
        "# Compile mô hình\n",
        "cnn_lstm_model = build_cnn_lstm_model(max_features, max_len)\n",
        "cnn_lstm_model.compile(optimizer='adam', loss='mse', metrics=['accuracy'])\n",
        "\n",
        "# Huấn luyện mô hình\n",
        "history_cnn_lstm = cnn_lstm_model.fit(X_train, y_train, validation_data=(X_test, y_test), epochs=5, batch_size=32)\n"
      ],
      "metadata": {
        "colab": {
          "base_uri": "https://localhost:8080/"
        },
        "id": "Wadjv4wCqWGK",
        "outputId": "bf25ef4d-5e8a-4b4d-db3a-f82afaf7875f"
      },
      "execution_count": 31,
      "outputs": [
        {
          "output_type": "stream",
          "name": "stdout",
          "text": [
            "Epoch 1/5\n",
            "14212/14212 [==============================] - 845s 59ms/step - loss: 0.1389 - accuracy: 0.8333 - val_loss: 0.1389 - val_accuracy: 0.8333\n",
            "Epoch 2/5\n",
            "14212/14212 [==============================] - 867s 61ms/step - loss: 0.1389 - accuracy: 0.8333 - val_loss: 0.1389 - val_accuracy: 0.8333\n",
            "Epoch 3/5\n",
            "14212/14212 [==============================] - 868s 61ms/step - loss: 0.1389 - accuracy: 0.8333 - val_loss: 0.1389 - val_accuracy: 0.8333\n",
            "Epoch 4/5\n",
            "14212/14212 [==============================] - 862s 61ms/step - loss: 0.1389 - accuracy: 0.8333 - val_loss: 0.1389 - val_accuracy: 0.8333\n",
            "Epoch 5/5\n",
            "14212/14212 [==============================] - 863s 61ms/step - loss: 0.1389 - accuracy: 0.8333 - val_loss: 0.1389 - val_accuracy: 0.8333\n"
          ]
        }
      ]
    },
    {
      "cell_type": "code",
      "source": [
        "\n",
        "# Xây dựng mô hình Multi-CNN-LSTM\n",
        "def build_multi_cnn_lstm_model(max_features, max_len):\n",
        "    # CNN branch\n",
        "    cnn_branch = Sequential()\n",
        "    cnn_branch.add(Embedding(max_features, 128, input_length=max_len))\n",
        "    cnn_branch.add(Conv1D(64, 3, padding='same', activation='relu'))\n",
        "    cnn_branch.add(MaxPooling1D())\n",
        "    cnn_branch.add(Flatten())\n",
        "\n",
        "    # LSTM branch\n",
        "    lstm_branch = Sequential()\n",
        "    lstm_branch.add(Embedding(max_features, 128, input_length=max_len))\n",
        "    lstm_branch.add(LSTM(64))\n",
        "\n",
        "    # Merge branches\n",
        "    merged = concatenate([cnn_branch.output, lstm_branch.output])\n",
        "    merged = Dense(1, activation='linear')(merged)\n",
        "\n",
        "    model = Model(inputs=[cnn_branch.input, lstm_branch.input], outputs=merged)\n",
        "    return model\n",
        "\n",
        "# Compile mô hình\n",
        "multi_cnn_lstm_model = build_multi_cnn_lstm_model(max_features, max_len)\n",
        "multi_cnn_lstm_model.compile(optimizer='adam', loss='mse', metrics=['accuracy'])\n",
        "\n",
        "# Huấn luyện mô hình\n",
        "history_multi_cnn_lstm = multi_cnn_lstm_model.fit([X_train, X_train], y_train, validation_data=([X_test, X_test], y_test), epochs=5, batch_size=32)\n"
      ],
      "metadata": {
        "colab": {
          "base_uri": "https://localhost:8080/"
        },
        "id": "yqiLJ_F4qpHr",
        "outputId": "c52a2594-2192-402f-decf-48630e658909"
      },
      "execution_count": 32,
      "outputs": [
        {
          "output_type": "stream",
          "name": "stdout",
          "text": [
            "Epoch 1/5\n",
            "14212/14212 [==============================] - 1554s 109ms/step - loss: 0.1389 - accuracy: 0.8333 - val_loss: 0.1389 - val_accuracy: 0.8333\n",
            "Epoch 2/5\n",
            "14212/14212 [==============================] - 1605s 113ms/step - loss: 0.1389 - accuracy: 0.8333 - val_loss: 0.1389 - val_accuracy: 0.8333\n",
            "Epoch 3/5\n",
            "14212/14212 [==============================] - 1598s 112ms/step - loss: 0.1389 - accuracy: 0.8333 - val_loss: 0.1389 - val_accuracy: 0.8333\n",
            "Epoch 4/5\n",
            "14212/14212 [==============================] - 1608s 113ms/step - loss: 0.1389 - accuracy: 0.8333 - val_loss: 0.1389 - val_accuracy: 0.8333\n",
            "Epoch 5/5\n",
            "14212/14212 [==============================] - 1614s 114ms/step - loss: 0.1389 - accuracy: 0.8333 - val_loss: 0.1389 - val_accuracy: 0.8333\n"
          ]
        }
      ]
    },
    {
      "cell_type": "markdown",
      "source": [
        "#lưu mô hình"
      ],
      "metadata": {
        "id": "u-flWmudq5BE"
      }
    },
    {
      "cell_type": "code",
      "source": [
        "cnn_lstm_model.save('food_sentiment_model.h5')\n"
      ],
      "metadata": {
        "colab": {
          "base_uri": "https://localhost:8080/"
        },
        "id": "B-fNRJKlq9ni",
        "outputId": "bc31042d-6c46-48c1-c3aa-ad1eb53cfeee"
      },
      "execution_count": 34,
      "outputs": [
        {
          "output_type": "stream",
          "name": "stderr",
          "text": [
            "/usr/local/lib/python3.10/dist-packages/keras/src/engine/training.py:3103: UserWarning: You are saving your model as an HDF5 file via `model.save()`. This file format is considered legacy. We recommend using instead the native Keras format, e.g. `model.save('my_model.keras')`.\n",
            "  saving_api.save_model(\n"
          ]
        }
      ]
    },
    {
      "cell_type": "code",
      "source": [
        "multi_cnn_lstm_model.save('food_sentiment_model2.h5')\n"
      ],
      "metadata": {
        "id": "xwGatYv_34pf"
      },
      "execution_count": 35,
      "outputs": []
    },
    {
      "cell_type": "markdown",
      "source": [
        "#đánh giá mô hình"
      ],
      "metadata": {
        "id": "ugrjekBsq-Nm"
      }
    },
    {
      "cell_type": "code",
      "source": [
        "#moadel_cnn_lstm\n",
        "loss, accuracy = cnn_lstm_model.evaluate(X_test, y_test)\n",
        "print('Test loss:', loss)\n",
        "print('Test accuracy:', accuracy)\n"
      ],
      "metadata": {
        "colab": {
          "base_uri": "https://localhost:8080/"
        },
        "id": "nisrcWLbrA3c",
        "outputId": "bba03595-9b95-466b-9f7f-3a03c7f9f5be"
      },
      "execution_count": 37,
      "outputs": [
        {
          "output_type": "stream",
          "name": "stdout",
          "text": [
            "3553/3553 [==============================] - 79s 22ms/step - loss: 0.1389 - accuracy: 0.8333\n",
            "Test loss: 0.1388859897851944\n",
            "Test accuracy: 0.8333195447921753\n"
          ]
        }
      ]
    },
    {
      "cell_type": "code",
      "source": [
        "#model multi_cnn_lstm\n",
        "loss, accuracy = multi_cnn_lstm_model.evaluate([X_test, X_test], y_test)\n",
        "print('Test loss:', loss)\n",
        "print('Test accuracy:', accuracy)\n"
      ],
      "metadata": {
        "colab": {
          "base_uri": "https://localhost:8080/"
        },
        "id": "V-g0v0pf4EVO",
        "outputId": "6b08a48d-8896-40b0-af8e-3b2468a3b4cb"
      },
      "execution_count": 38,
      "outputs": [
        {
          "output_type": "stream",
          "name": "stdout",
          "text": [
            "3553/3553 [==============================] - 98s 28ms/step - loss: 0.1389 - accuracy: 0.8333\n",
            "Test loss: 0.1388859897851944\n",
            "Test accuracy: 0.8333195447921753\n"
          ]
        }
      ]
    },
    {
      "cell_type": "code",
      "source": [
        "# Chia tập huấn luyện thành tập huấn luyện và tập validation\n",
        "X_train, X_val, y_train, y_val = train_test_split(X_train, y_train, test_size=0.2, random_state=42)\n",
        "\n",
        "# In số lượng của mỗi tập\n",
        "print(\"Số lượng mẫu trong tập train:\", len(X_train))\n",
        "print(\"Số lượng mẫu trong tập test:\", len(X_test))\n",
        "print(\"Số lượng mẫu trong tập validation:\", len(X_val))"
      ],
      "metadata": {
        "colab": {
          "base_uri": "https://localhost:8080/"
        },
        "id": "SWW71arOBJ6Z",
        "outputId": "e02d30af-b01a-4412-bd70-2ef236b71255"
      },
      "execution_count": 39,
      "outputs": [
        {
          "output_type": "stream",
          "name": "stdout",
          "text": [
            "Số lượng mẫu trong tập train: 363810\n",
            "Số lượng mẫu trong tập test: 113691\n",
            "Số lượng mẫu trong tập validation: 90953\n"
          ]
        }
      ]
    },
    {
      "cell_type": "markdown",
      "source": [
        "#dự đoán và demo"
      ],
      "metadata": {
        "id": "KsiGXJMCrQ7A"
      }
    },
    {
      "cell_type": "code",
      "source": [
        "def predict_sentiment(review):\n",
        "    # Tiền xử lý dữ liệu cho review nhập vào\n",
        "    review = re.sub(r'[^a-zA-Z\\s]', '', str(review))  # Loại bỏ ký tự đặc biệt\n",
        "    review = review.lower()  # Chuyển về chữ thường\n",
        "    review = ' '.join([word for word in review.split() if word not in stop_words])  # Loại bỏ stopwords\n",
        "    review = ' '.join([stemmer.stem(word) for word in review.split()])  # Stemming\n",
        "    review_seq = tokenizer.texts_to_sequences([review])  # Chuyển đổi thành sequence\n",
        "    review_pad = pad_sequences(review_seq, maxlen=max_len)  # Padding để có cùng kích thước với input của mô hình\n",
        "\n",
        "    # Dự đoán cảm xúc\n",
        "    sentiment = model.predict(review_pad)[0][0]\n",
        "    return sentiment\n",
        "\n"
      ],
      "metadata": {
        "id": "323wBasFrP62"
      },
      "execution_count": 72,
      "outputs": []
    },
    {
      "cell_type": "code",
      "source": [
        "# Chọn một hàng ngẫu nhiên từ tập dữ liệu\n",
        "random_row_index = np.random.randint(0, len(data))\n",
        "random_row = data.iloc[random_row_index]\n",
        "\n",
        "# In thông tin về sản phẩm, đánh giá, và phân loại tương ứng\n",
        "print(\"Sản phẩm:\", random_row['ProductId'])\n",
        "print(\"Đánh giá Text:\", random_row['Text'])\n",
        "print(\"Điểm đánh giá:\", random_row['Score'])\n",
        "print(\"Phân loại:\", classify_review_with_score(random_row['Score']))\n"
      ],
      "metadata": {
        "colab": {
          "base_uri": "https://localhost:8080/"
        },
        "id": "odcfZDZkrWSI",
        "outputId": "cbb4d728-0782-4b32-bd62-3306b1b8e858"
      },
      "execution_count": 73,
      "outputs": [
        {
          "output_type": "stream",
          "name": "stdout",
          "text": [
            "Sản phẩm: B0009K77O8\n",
            "Đánh giá Text: I love this tea!  The addition of the brown rice kind of takes the edge off the green tea and gives it a very mild and subtle nutty flavor.\n",
            "Điểm đánh giá: 5\n",
            "Phân loại: Tích cực (Điểm 5)\n"
          ]
        }
      ]
    },
    {
      "cell_type": "code",
      "source": [
        "# Load pre-trained model\n",
        "model = load_model('food_sentiment_model.h5')\n"
      ],
      "metadata": {
        "id": "Psk0ixBKrVeb"
      },
      "execution_count": 74,
      "outputs": []
    },
    {
      "cell_type": "code",
      "source": [
        "def predict_sentiment(model, review):\n",
        "    # Tiền xử lý dữ liệu cho review nhập vào\n",
        "    review = re.sub(r'[^a-zA-Z\\s]', '', str(review))  # Loại bỏ ký tự đặc biệt\n",
        "    review = review.lower()  # Chuyển về chữ thường\n",
        "    review = ' '.join([word for word in review.split() if word not in stop_words])  # Loại bỏ stopwords\n",
        "    review = ' '.join([stemmer.stem(word) for word in review.split()])  # Stemming\n",
        "    review_seq = tokenizer.texts_to_sequences([review])  # Chuyển đổi thành sequence\n",
        "    review_pad = pad_sequences(review_seq, maxlen=max_len)  # Padding để có cùng kích thước với input của mô hình\n",
        "\n",
        "    # Dự đoán cảm xúc\n",
        "    sentiment = model.predict(review_pad)[0][0]\n",
        "    return sentiment"
      ],
      "metadata": {
        "id": "TypgaxIkHFro"
      },
      "execution_count": 77,
      "outputs": []
    },
    {
      "cell_type": "code",
      "source": [
        "while True:\n",
        "    product_name = input(\"Nhập tên sản phẩm (hoặc 'q' để thoát): \")\n",
        "    if product_name.lower() == 'q':\n",
        "        break\n",
        "\n",
        "    # Tìm các đánh giá liên quan đến sản phẩm\n",
        "    relevant_reviews = data[data['ProductId'] == product_name]\n",
        "\n",
        "    if len(relevant_reviews) == 0:\n",
        "        print(\"Không có đánh giá nào cho sản phẩm này.\")\n",
        "        continue\n",
        "\n",
        "    # Dự đoán và in ra phân loại của các đánh giá\n",
        "    for _, review_row in relevant_reviews.iterrows():\n",
        "        sentiment = predict_sentiment(model, review_row['Text'])  # Thêm model vào hàm predict_sentiment\n",
        "        print(\"Đánh giá:\", review_row['Text'])\n",
        "        print(\"Điểm đánh giá:\", review_row['Score'])\n",
        "        if sentiment >= 0.7:\n",
        "            print(\"Phân loại: Đánh giá tích cực\")\n",
        "        elif sentiment <= 0.3:\n",
        "            print(\"Phân loại: Đánh giá tiêu cực\")\n",
        "        else:\n",
        "            print(\"Phân loại: Đánh giá trung tính\")\n",
        "        print()\n"
      ],
      "metadata": {
        "colab": {
          "base_uri": "https://localhost:8080/"
        },
        "id": "g0605iPT8wDp",
        "outputId": "6b7933e4-f870-471d-fde3-2e0f7972534a"
      },
      "execution_count": 82,
      "outputs": [
        {
          "name": "stdout",
          "output_type": "stream",
          "text": [
            "Nhập tên sản phẩm (hoặc 'q' để thoát): trewtre\n",
            "Không có đánh giá nào cho sản phẩm này.\n",
            "Nhập tên sản phẩm (hoặc 'q' để thoát): B001E4KFG0\n",
            "1/1 [==============================] - 0s 37ms/step\n",
            "Đánh giá: I have bought several of the Vitality canned dog food products and have found them all to be of good quality. The product looks more like a stew than a processed meat and it smells better. My Labrador is finicky and she appreciates this product better than  most.\n",
            "Điểm đánh giá: 5\n",
            "Phân loại: Đánh giá tiêu cực\n",
            "\n",
            "Nhập tên sản phẩm (hoặc 'q' để thoát): q\n"
          ]
        }
      ]
    }
  ]
}